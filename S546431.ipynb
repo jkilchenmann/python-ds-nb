{
 "cells": [
  {
   "cell_type": "markdown",
   "id": "154e03f8-36a2-4137-bc8c-e6a245a5c286",
   "metadata": {},
   "source": [
    "### Student Name:  Justin P. Kilchenmann"
   ]
  },
  {
   "cell_type": "markdown",
   "id": "aa84ccfb-81c9-4570-8616-cd5506195b07",
   "metadata": {},
   "source": [
    "##### I found the code to do this at: https://www.codingninjas.com/codestudio/library/inverted-pant-s-style-pattern - I made minor modifications for it to look like the example.  The lecture did not have any\"while\" examples for a loop, but the Intro to Python textbook stated that \"while\" constitutes a loop."
   ]
  },
  {
   "cell_type": "code",
   "execution_count": 29,
   "id": "41250025-3a57-4a11-9b9f-df6fe84c5ad7",
   "metadata": {},
   "outputs": [
    {
     "name": "stdout",
     "output_type": "stream",
     "text": [
      "        \n",
      "*      *\n",
      "**    **\n",
      "***  ***\n",
      "********\n"
     ]
    }
   ],
   "source": [
    "n = 4\n",
    "row = n\n",
    "while (row >= 0) :\n",
    "\n",
    "    col = n\n",
    "    while (col > row) :\n",
    "        print(\"*\", end =\"\")\n",
    "        col -= 1\n",
    "        \n",
    "\n",
    "    col = 1\n",
    "    while (col <= 2 * row) :\n",
    "        print(\" \", end =\"\")\n",
    "        col += 1\n",
    "\n",
    "    col = row + 1\n",
    "    while (col <= n) :\n",
    "        print(\"*\", end =\"\")\n",
    "        col += 1\n",
    "\n",
    "    print()\n",
    "    row -= 1"
   ]
  },
  {
   "cell_type": "code",
   "execution_count": null,
   "id": "2585c948-173d-4a2c-b4ea-71f750a385a4",
   "metadata": {},
   "outputs": [],
   "source": []
  }
 ],
 "metadata": {
  "kernelspec": {
   "display_name": "Python 3 (ipykernel)",
   "language": "python",
   "name": "python3"
  },
  "language_info": {
   "codemirror_mode": {
    "name": "ipython",
    "version": 3
   },
   "file_extension": ".py",
   "mimetype": "text/x-python",
   "name": "python",
   "nbconvert_exporter": "python",
   "pygments_lexer": "ipython3",
   "version": "3.9.7"
  }
 },
 "nbformat": 4,
 "nbformat_minor": 5
}
